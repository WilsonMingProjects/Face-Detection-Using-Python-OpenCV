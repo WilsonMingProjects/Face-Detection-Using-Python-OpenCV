{
 "cells": [
  {
   "cell_type": "markdown",
   "metadata": {},
   "source": [
    "### Simple face detection program for fun."
   ]
  },
  {
   "cell_type": "code",
   "execution_count": null,
   "metadata": {},
   "outputs": [],
   "source": [
    "# Install the computer vision related libraries.\n",
    "\n",
    "# !pip3 install opencv-python\n",
    "# !pip3 install mediapipe"
   ]
  },
  {
   "cell_type": "code",
   "execution_count": null,
   "metadata": {},
   "outputs": [],
   "source": [
    "import cv2\n",
    "import mediapipe as mp\n",
    "import time"
   ]
  },
  {
   "cell_type": "code",
   "execution_count": null,
   "metadata": {},
   "outputs": [],
   "source": [
    "# Read the file or web cam\n",
    "# Another file: videos/reporter.mp4\n",
    "\n",
    "# Currently is read web cam.\n",
    "cap = cv2.VideoCapture(0)"
   ]
  },
  {
   "cell_type": "code",
   "execution_count": null,
   "metadata": {},
   "outputs": [],
   "source": [
    "# Face detection modules\n",
    "mpFaceDetection = mp.solutions.face_detection\n",
    "mpDraw = mp.solutions.drawing_utils\n",
    "\n",
    "# Set the confident value\n",
    "faceDection = mpFaceDetection.FaceDetection(0.5)"
   ]
  },
  {
   "cell_type": "code",
   "execution_count": null,
   "metadata": {
    "scrolled": false
   },
   "outputs": [],
   "source": [
    "pTime = 0\n",
    "\n",
    "while (cap.isOpened()):\n",
    "    \n",
    "    success, img = cap.read()\n",
    "\n",
    "    # Convert the video colour related thing\n",
    "    if not success:\n",
    "        break\n",
    "    else:\n",
    "        imgRGB = cv2.cvtColor(img, cv2.COLOR_BGR2RGB)\n",
    "        results = faceDection.process(imgRGB)\n",
    "        # print(results)\n",
    "    \n",
    "    # Detect and show coordinate of the multiple faces\n",
    "    if results.detections:\n",
    "        for id,detection in enumerate(results.detections):\n",
    "            # print(id, detection.score)\n",
    "            # mpDraw.draw_detection(img,detection) #Find the face\n",
    "            \n",
    "            bboxC = detection.location_data.relative_bounding_box\n",
    "            # Image height, weight, channel\n",
    "            ih, iw, ic = img.shape\n",
    "            \n",
    "            # Set the box manually\n",
    "            bbox = int(bboxC.xmin * iw), int(bboxC.ymin * ih),\\\n",
    "                   int(bboxC.width * iw), int(bboxC.height * ih)\n",
    "                \n",
    "            # Display the box and accuracy score/confident value\n",
    "            cv2.rectangle(img,bbox,(255,0,255),2)\n",
    "            cv2.putText(img, f'FPS:{int(detection.score[0]*100)}%',(bbox[0],bbox[1]-20),cv2.FONT_HERSHEY_PLAIN,2,(0,255,0),2)\n",
    "    \n",
    "    # Frame rate calculation\n",
    "    # Display frame rate\n",
    "    cTime = time.time()\n",
    "    fps = 1/(cTime-pTime)\n",
    "    pTime = cTime\n",
    "    cv2.putText(img, f'FPS:{int(fps)}',(20,40),cv2.FONT_HERSHEY_PLAIN,2,(0,255,0),2)\n",
    "    \n",
    "    # Play video\n",
    "    cv2.imshow('Image',img)\n",
    "    if cv2.waitKey(1) & 0xFF == ord('q'):\n",
    "        break\n",
    "    \n",
    "cap.release()\n",
    "cv2.destroyAllWindows()    "
   ]
  },
  {
   "cell_type": "code",
   "execution_count": null,
   "metadata": {},
   "outputs": [],
   "source": []
  }
 ],
 "metadata": {
  "kernelspec": {
   "display_name": "Python 3",
   "language": "python",
   "name": "python3"
  },
  "language_info": {
   "codemirror_mode": {
    "name": "ipython",
    "version": 3
   },
   "file_extension": ".py",
   "mimetype": "text/x-python",
   "name": "python",
   "nbconvert_exporter": "python",
   "pygments_lexer": "ipython3",
   "version": "3.6.12"
  }
 },
 "nbformat": 4,
 "nbformat_minor": 4
}
